{
 "cells": [
  {
   "cell_type": "code",
   "execution_count": 26,
   "metadata": {},
   "outputs": [
    {
     "name": "stdout",
     "output_type": "stream",
     "text": [
      "[[2. 4. 4.]\n",
      " [4. 6. 2.]\n",
      " [2. 2. 3.]]\n"
     ]
    }
   ],
   "source": [
    "import numpy as np\n",
    "A = np.mat([[2,4,4],\n",
    "            [4,6,2],\n",
    "            [2,2,3]])\n",
    "u1 = np.mat([[3],[4],[2]])\n",
    "u2 = np.mat([[-1],[2],[-2]])\n",
    "u3 = np.mat([[4],[-2],[-1]])\n",
    "\n",
    "u1 = u1 / (u1.T*u1).item()\n",
    "u2 = u2 / (u2.T*u2).item()\n",
    "u3 = u3 / (u3.T*u3).item()\n",
    "\n",
    "P = np.concatenate([u1,u2,u3],axis=1)\n",
    "print(P@np.mat([[10,0,0],\n",
    "                [0,2,0],\n",
    "                [0,0,-1]])@np.linalg.inv(P))\n",
    "# print(P)\n",
    "# print(10*H1+2*H2-H3)"
   ]
  },
  {
   "cell_type": "code",
   "execution_count": 29,
   "metadata": {},
   "outputs": [
    {
     "data": {
      "text/plain": [
       "matrix([[1.66666667, 2.33333333],\n",
       "        [1.        , 1.        ]])"
      ]
     },
     "execution_count": 29,
     "metadata": {},
     "output_type": "execute_result"
    }
   ],
   "source": [
    "np.mat([[1,1],[1,-1]]) @ np.linalg.inv(np.mat([[1,2],[2,1]])) @ np.mat([[2,3],[3,4]])"
   ]
  }
 ],
 "metadata": {
  "kernelspec": {
   "display_name": "Py39",
   "language": "python",
   "name": "python3"
  },
  "language_info": {
   "codemirror_mode": {
    "name": "ipython",
    "version": 3
   },
   "file_extension": ".py",
   "mimetype": "text/x-python",
   "name": "python",
   "nbconvert_exporter": "python",
   "pygments_lexer": "ipython3",
   "version": "3.9.19"
  }
 },
 "nbformat": 4,
 "nbformat_minor": 2
}
