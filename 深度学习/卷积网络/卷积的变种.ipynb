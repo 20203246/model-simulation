{
 "cells": [
  {
   "cell_type": "code",
   "id": "initial_id",
   "metadata": {
    "collapsed": true,
    "ExecuteTime": {
     "end_time": "2024-10-29T01:40:31.027193Z",
     "start_time": "2024-10-29T01:40:31.016756Z"
    }
   },
   "source": [
    "import torch\n",
    "import torch.nn as nn\n",
    "conv = nn.Conv2d(in_channels=3, out_channels=6, kernel_size=7, stride=1, padding=0,groups=3, bias=False)\n",
    "conv2 = nn.Conv2d(in_channels=3, out_channels=6, kernel_size=7, stride=1, padding=0,groups=1, bias=False)\n",
    "print(conv.weight.size(), conv2.weight.size())"
   ],
   "outputs": [
    {
     "name": "stdout",
     "output_type": "stream",
     "text": [
      "torch.Size([6, 1, 7, 7]) torch.Size([6, 3, 7, 7])\n"
     ]
    }
   ],
   "execution_count": 15
  }
 ],
 "metadata": {
  "kernelspec": {
   "display_name": "Python 3",
   "language": "python",
   "name": "python3"
  },
  "language_info": {
   "codemirror_mode": {
    "name": "ipython",
    "version": 2
   },
   "file_extension": ".py",
   "mimetype": "text/x-python",
   "name": "python",
   "nbconvert_exporter": "python",
   "pygments_lexer": "ipython2",
   "version": "2.7.6"
  }
 },
 "nbformat": 4,
 "nbformat_minor": 5
}
