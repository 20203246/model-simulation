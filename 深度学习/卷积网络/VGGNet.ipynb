{
 "cells": [
  {
   "cell_type": "code",
   "id": "initial_id",
   "metadata": {
    "collapsed": true,
    "ExecuteTime": {
     "end_time": "2024-10-29T01:52:07.445078Z",
     "start_time": "2024-10-29T01:52:05.594441Z"
    }
   },
   "source": [
    "import os\n",
    "print(os.chdir('/data/coding/卷积网络'))\n",
    "print(os.path.abspath('.'))\n",
    "from tqdm import tqdm\n",
    "from torch.autograd import Variable\n",
    "import torch\n",
    "import torch.nn as nn\n",
    "\n",
    "class Trainer(object):\n",
    "    # 初始化模型、配置参数、优化器和损失函数\n",
    "    def __init__(self, model, config):\n",
    "        self._model = model\n",
    "        self._config = config\n",
    "        self._optimizer = torch.optim.Adam(self._model.parameters(),\\\n",
    "                                           lr=config['lr'], weight_decay=config['l2_regularization'])\n",
    "        self.loss_func = nn.CrossEntropyLoss()\n",
    "    # 对单个小批量数据进行训练，包括前向传播、计算损失、反向传播和更新模型参数\n",
    "    def _train_single_batch(self, images, labels):\n",
    "        y_predict = self._model(images)\n",
    "\n",
    "        loss = self.loss_func(y_predict, labels)\n",
    "        # 先将梯度清零,如果不清零，那么这个梯度就和上一个mini-batch有关\n",
    "        self._optimizer.zero_grad()\n",
    "        # 反向传播计算梯度\n",
    "        loss.backward()\n",
    "        # 梯度下降等优化器 更新参数\n",
    "        self._optimizer.step()\n",
    "        # 将loss的值提取成python的float类型\n",
    "        loss = loss.item()\n",
    "\n",
    "        # 计算训练精确度\n",
    "        # 这里的y_predict是一个多个分类输出，将dim指定为1，即返回每一个分类输出最大的值以及下标\n",
    "        _, predicted = torch.max(y_predict.data, dim=1)\n",
    "        return loss, predicted\n",
    "\n",
    "    def _train_an_epoch(self, train_loader, epoch_id):\n",
    "        \"\"\"\n",
    "        训练一个Epoch，即将训练集中的所有样本全部都过一遍\n",
    "        \"\"\"\n",
    "        # 设置模型为训练模式，启用dropout以及batch normalization\n",
    "        self._model.train()\n",
    "        total = 0\n",
    "        correct = 0\n",
    "        # 从DataLoader中获取小批量的id以及数据\n",
    "        for images, labels in tqdm(train_loader):\n",
    "            images = Variable(images)\n",
    "            labels = Variable(labels)\n",
    "            if self._config['use_cuda'] is True:\n",
    "                images, labels = images.cuda(), labels.cuda()\n",
    "\n",
    "            loss, predicted = self._train_single_batch(images, labels)\n",
    "\n",
    "            # 计算训练精确度\n",
    "            total += labels.size(0)\n",
    "            correct += (predicted == labels.data).sum()\n",
    "\n",
    "            # print('[Training Epoch: {}] Batch: {}, Loss: {}'.format(epoch_id, batch_id, loss))\n",
    "        print('Training Epoch: {}, accuracy rate: {}%%'.format(epoch_id, correct / total * 100.0))\n",
    "\n",
    "    def train(self, train_dataset):\n",
    "        # 是否使用GPU加速\n",
    "        self.use_cuda()\n",
    "        for epoch in range(self._config['num_epoch']):\n",
    "            print('-' * 20 + ' Epoch {} starts '.format(epoch) + '-' * 20)\n",
    "            # 构造DataLoader\n",
    "            data_loader = torch.utils.data.DataLoader(dataset=train_dataset, batch_size=self._config['batch_size'], shuffle=True)\n",
    "            # 训练一个轮次\n",
    "            self._train_an_epoch(data_loader, epoch_id=epoch)\n",
    "\n",
    "    # 用于将模型和数据迁移到GPU上进行计算，如果CUDA不可用则会抛出异常\n",
    "    def use_cuda(self):\n",
    "        if self._config['use_cuda'] is True:\n",
    "            assert torch.cuda.is_available(), 'CUDA is not available'\n",
    "            torch.cuda.set_device(self._config['device_id'])\n",
    "            self._model.cuda()\n",
    "\n",
    "    # 保存训练好的模型\n",
    "    def save(self):\n",
    "        self._model.saveModel()\n",
    "def Construct_DataLoader(dataset, batchsize,shuffle=True):\n",
    "    return torch.utils.data.DataLoader(dataset=dataset, batch_size=batchsize, shuffle=shuffle)\n",
    "vggnet_config = \\\n",
    "{\n",
    "    'num_epoch': 20,              # 训练轮次数\n",
    "    'batch_size': 1,            # 每个小批量训练的样本数量\n",
    "    'lr': 1e-3,                   # 学习率\n",
    "    'l2_regularization':1e-4,     # L2正则化系数\n",
    "    'device_id': 0,               # 使用的GPU设备的ID号\n",
    "    'use_cuda': True,             # 是否使用CUDA加速\n",
    "    'model_name': './VGGNet.model' # 保存模型的文件名\n",
    "}"
   ],
   "outputs": [
    {
     "name": "stdout",
     "output_type": "stream",
     "text": [
      "None\n",
      "/data/coding/卷积网络\n"
     ]
    }
   ],
   "execution_count": 1
  },
  {
   "metadata": {
    "ExecuteTime": {
     "end_time": "2024-10-29T01:52:10.615214Z",
     "start_time": "2024-10-29T01:52:07.634350Z"
    }
   },
   "cell_type": "code",
   "source": [
    "from torchvision.models import vgg16,vgg16_bn\n",
    "model = vgg16()\n",
    "# model(torch.zeros(1,3,224,224)).shape\n",
    "model.classifier.add_module('7',nn.Linear(1000,10,bias=True))\n",
    "print(model)"
   ],
   "id": "be4186809e4120c9",
   "outputs": [
    {
     "name": "stdout",
     "output_type": "stream",
     "text": [
      "VGG(\n",
      "  (features): Sequential(\n",
      "    (0): Conv2d(3, 64, kernel_size=(3, 3), stride=(1, 1), padding=(1, 1))\n",
      "    (1): ReLU(inplace=True)\n",
      "    (2): Conv2d(64, 64, kernel_size=(3, 3), stride=(1, 1), padding=(1, 1))\n",
      "    (3): ReLU(inplace=True)\n",
      "    (4): MaxPool2d(kernel_size=2, stride=2, padding=0, dilation=1, ceil_mode=False)\n",
      "    (5): Conv2d(64, 128, kernel_size=(3, 3), stride=(1, 1), padding=(1, 1))\n",
      "    (6): ReLU(inplace=True)\n",
      "    (7): Conv2d(128, 128, kernel_size=(3, 3), stride=(1, 1), padding=(1, 1))\n",
      "    (8): ReLU(inplace=True)\n",
      "    (9): MaxPool2d(kernel_size=2, stride=2, padding=0, dilation=1, ceil_mode=False)\n",
      "    (10): Conv2d(128, 256, kernel_size=(3, 3), stride=(1, 1), padding=(1, 1))\n",
      "    (11): ReLU(inplace=True)\n",
      "    (12): Conv2d(256, 256, kernel_size=(3, 3), stride=(1, 1), padding=(1, 1))\n",
      "    (13): ReLU(inplace=True)\n",
      "    (14): Conv2d(256, 256, kernel_size=(3, 3), stride=(1, 1), padding=(1, 1))\n",
      "    (15): ReLU(inplace=True)\n",
      "    (16): MaxPool2d(kernel_size=2, stride=2, padding=0, dilation=1, ceil_mode=False)\n",
      "    (17): Conv2d(256, 512, kernel_size=(3, 3), stride=(1, 1), padding=(1, 1))\n",
      "    (18): ReLU(inplace=True)\n",
      "    (19): Conv2d(512, 512, kernel_size=(3, 3), stride=(1, 1), padding=(1, 1))\n",
      "    (20): ReLU(inplace=True)\n",
      "    (21): Conv2d(512, 512, kernel_size=(3, 3), stride=(1, 1), padding=(1, 1))\n",
      "    (22): ReLU(inplace=True)\n",
      "    (23): MaxPool2d(kernel_size=2, stride=2, padding=0, dilation=1, ceil_mode=False)\n",
      "    (24): Conv2d(512, 512, kernel_size=(3, 3), stride=(1, 1), padding=(1, 1))\n",
      "    (25): ReLU(inplace=True)\n",
      "    (26): Conv2d(512, 512, kernel_size=(3, 3), stride=(1, 1), padding=(1, 1))\n",
      "    (27): ReLU(inplace=True)\n",
      "    (28): Conv2d(512, 512, kernel_size=(3, 3), stride=(1, 1), padding=(1, 1))\n",
      "    (29): ReLU(inplace=True)\n",
      "    (30): MaxPool2d(kernel_size=2, stride=2, padding=0, dilation=1, ceil_mode=False)\n",
      "  )\n",
      "  (avgpool): AdaptiveAvgPool2d(output_size=(7, 7))\n",
      "  (classifier): Sequential(\n",
      "    (0): Linear(in_features=25088, out_features=4096, bias=True)\n",
      "    (1): ReLU(inplace=True)\n",
      "    (2): Dropout(p=0.5, inplace=False)\n",
      "    (3): Linear(in_features=4096, out_features=4096, bias=True)\n",
      "    (4): ReLU(inplace=True)\n",
      "    (5): Dropout(p=0.5, inplace=False)\n",
      "    (6): Linear(in_features=4096, out_features=1000, bias=True)\n",
      "    (7): Linear(in_features=1000, out_features=10, bias=True)\n",
      "  )\n",
      ")\n"
     ]
    }
   ],
   "execution_count": 2
  },
  {
   "metadata": {
    "jupyter": {
     "is_executing": true
    },
    "ExecuteTime": {
     "start_time": "2024-10-29T01:52:11.111437Z"
    }
   },
   "cell_type": "code",
   "source": [
    "from torchvision.transforms import transforms\n",
    "from torchvision.datasets import CIFAR10\n",
    "\n",
    "\n",
    "def LoadCIFAR10():\n",
    "    train_dataset = CIFAR10('../dataset/',train=True,download=True,transform=transforms.Compose([\n",
    "        transforms.Resize((224,224)),\n",
    "        transforms.ToTensor(),\n",
    "        transforms.Normalize((0.5, 0.5, 0.5), (0.5, 0.5, 0.5)),\n",
    "    ]))\n",
    "    test_dataset = CIFAR10('../dataset/',train=False,download=True,transform=transforms.Compose([\n",
    "        transforms.Resize((224,224)),\n",
    "        transforms.ToTensor(),\n",
    "        transforms.Normalize((0.5, 0.5, 0.5), (0.5, 0.5, 0.5)),\n",
    "    ]))\n",
    "    return train_dataset,test_dataset\n",
    "train_dataset, test_dataset = LoadCIFAR10()\n",
    "alexNet = vgg16()\n",
    "trainer = Trainer(model=alexNet, config=vggnet_config)\n",
    "trainer.train(train_dataset)\n",
    "trainer.save()\n",
    "\n",
    "alexNet.eval()\n",
    "alexNet.cuda()\n",
    "correct = 0\n",
    "total = 0\n",
    "# 对测试集中的每个样本进行预测，并计算出预测的精度\n",
    "for images, labels in Construct_DataLoader(test_dataset, vggnet_config['batch_size'],False):\n",
    "    images = Variable(images)\n",
    "    labels = Variable(labels)\n",
    "    if vggnet_config['use_cuda']:\n",
    "        images = images.cuda()\n",
    "        labels = labels.cuda()\n",
    "\n",
    "    y_pred = alexNet(images)\n",
    "    _, predicted = torch.max(y_pred.data, 1)\n",
    "    total += labels.size(0)\n",
    "    temp = (predicted == labels.data).sum()\n",
    "    correct += temp\n",
    "print('Accuracy of the model on the test images: %.2f%%' % (100.0 * correct / total))"
   ],
   "id": "f72883e21695076c",
   "outputs": [
    {
     "name": "stdout",
     "output_type": "stream",
     "text": [
      "Files already downloaded and verified\n",
      "Files already downloaded and verified\n",
      "-------------------- Epoch 0 starts --------------------\n"
     ]
    },
    {
     "name": "stderr",
     "output_type": "stream",
     "text": [
      "  0%|          | 0/834 [00:00<?, ?it/s]"
     ]
    }
   ],
   "execution_count": null
  }
 ],
 "metadata": {
  "kernelspec": {
   "display_name": "Python 3",
   "language": "python",
   "name": "python3"
  },
  "language_info": {
   "codemirror_mode": {
    "name": "ipython",
    "version": 2
   },
   "file_extension": ".py",
   "mimetype": "text/x-python",
   "name": "python",
   "nbconvert_exporter": "python",
   "pygments_lexer": "ipython2",
   "version": "2.7.6"
  }
 },
 "nbformat": 4,
 "nbformat_minor": 5
}
