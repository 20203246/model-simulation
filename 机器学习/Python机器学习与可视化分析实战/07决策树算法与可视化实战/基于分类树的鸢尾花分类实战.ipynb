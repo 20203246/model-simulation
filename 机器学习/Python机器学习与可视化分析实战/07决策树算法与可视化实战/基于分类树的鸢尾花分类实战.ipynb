{
 "cells": [
  {
   "cell_type": "code",
   "execution_count": 7,
   "metadata": {},
   "outputs": [
    {
     "name": "stdout",
     "output_type": "stream",
     "text": [
      "CART分类树准确率 0.9800\n"
     ]
    }
   ],
   "source": [
    "# encoding=utf-8\n",
    "from sklearn.model_selection import train_test_split\n",
    "from sklearn.metrics import accuracy_score\n",
    "from sklearn.tree import DecisionTreeClassifier\n",
    "from sklearn.datasets import load_iris\n",
    "\n",
    "iris = load_iris()\n",
    "features = iris.data\n",
    "labels = iris.target\n",
    "x_train,x_test,y_train,y_test = train_test_split(features,labels,test_size=0.33,random_state=0)\n",
    "clf = DecisionTreeClassifier(criterion='gini')\n",
    "clf.fit(x_train,y_train)\n",
    "test_predict = clf.predict(x_test)\n",
    "score = accuracy_score(test_predict,y_test)\n",
    "print('CART分类树准确率 %.4lf' %score)"
   ]
  },
  {
   "cell_type": "code",
   "execution_count": null,
   "metadata": {},
   "outputs": [],
   "source": []
  }
 ],
 "metadata": {
  "kernelspec": {
   "display_name": "Py39",
   "language": "python",
   "name": "python3"
  },
  "language_info": {
   "codemirror_mode": {
    "name": "ipython",
    "version": 3
   },
   "file_extension": ".py",
   "mimetype": "text/x-python",
   "name": "python",
   "nbconvert_exporter": "python",
   "pygments_lexer": "ipython3",
   "version": "3.9.19"
  }
 },
 "nbformat": 4,
 "nbformat_minor": 2
}
