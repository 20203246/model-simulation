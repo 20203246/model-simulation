{
 "cells": [
  {
   "cell_type": "markdown",
   "metadata": {},
   "source": [
    "## 二分k-means算法\n",
    "二分k-means(Bisection k-means)算法试图克服k-means算法收敛于局部最优值的缺陷。\n",
    "\n",
    "基本思想是 **分裂**，首先将所有点看成一个簇，然后将该簇一分为二，之后选择其中一个簇继续分裂。\n",
    "\n",
    "选择哪个簇进行分裂，取决于对其进行的分裂是否可以最大程度降低SSE(Square Sum Error)值。\n",
    "> (由于要对每一个簇进行分裂后的SSE减少值进行计算，花费时间较多，因此也可以选择SSE值最大的簇或者样本点数目最大的簇直接进行分割)\n",
    "\n",
    "如此分裂下去，直到达到指定的簇数目 $k$ 为止。"
   ]
  },
  {
   "cell_type": "markdown",
   "metadata": {},
   "source": [
    "## k-means++算法\n",
    "与二分k-means算法一样，k-means++算法的目标也是使算法尽量收敛于全局最优点\n",
    "\n",
    "但是k-means++算法是从选择合适的初始簇中心的角度来解决k-means算法对初始簇中心敏感的问题\n",
    "\n",
    "| 算法 | 操作 |\n",
    "| - | - |\n",
    "| 1 | 从样本集 $S$ 中随机选择1个样本点加入簇中心集合U中 |\n",
    "| 2 | 对任一样本点 $x$ ，计算它到 $U$ 的距离 $D(x)$ |\n",
    "| 3 | 将 $D(x)$ 转化为对应样本点 $x$ 的概率 $p(x)$ |\n",
    "| 4 | 按所有样本点的概率 $p(x)$ ，选择一个样本点加入簇中心集合 $U$ |\n",
    "| 5 | 重复2~4步直到簇中心集合元素个数达到4 |\n",
    "\n",
    "样本点 $x$ 到簇中心集合 $U$ 的距离 $D(x)$ 是该点到 $U$ 中元素 $u_j$ 的距离的最小值\n",
    "$$D(x)=mindist(x,u_j)$$\n",
    "$$p(x)=\\frac{D(x)^2}{\\sum_{x'\\in S}{D(x')^2}}$$\n",
    "\n",
    "> 可见距离簇中心集合 $U$ 越远的点，被加入到 $U$ 的概率越大，因此该算法的实质是使初始化簇中心尽量分散。但是该算法是一个个选择簇中心，数据量较大会存在性能方面的问题\n"
   ]
  },
  {
   "cell_type": "markdown",
   "metadata": {},
   "source": [
    "## k-mediods算法\n",
    "k-mediods算法与k-means算法不同之处在于簇中心的计算方法不同，它不像k-means算法那样采用计算均值的方法来得到簇中心\n",
    "\n",
    "而是在簇中选择一个样本点作为簇中心，选择的标准是是簇内各样本点到簇中心的距离和最短。\n",
    "\n",
    "记大小为 $m$ 的簇 $\\textbf{C}$ 内样本点为 $x_j$，簇中心为 $\\textbf{u}$，则 $$\\textbf{u}=\\argmin_x \\sum_{j=0}^{m-1}dist(x,x_j)$$\n",
    "\n",
    "> 当簇内有 $n$ 个节点时，k-mediods 算法在选择簇中心时，要进行 $\\sum_{i=1}^{n-1}=\\frac{n(n-1)}{2}$ 次距离计算，复杂度高于线性。"
   ]
  },
  {
   "cell_type": "markdown",
   "metadata": {},
   "source": [
    "## Mini Batch k-means算法\n",
    "在k-means算法中，需要计算所有样本点到所有簇中心的距离。当样本量很大、特征多时，k-means算法耗时量会非常大。\n",
    "\n",
    "Mini Batch k-means算法通过略微牺牲优化质量来取得显著减少计算时间的效果。\n",
    "\n",
    "基本思想是用随机抽取的代表样本来进行优化计算，而不是在全部样本上进行计算。\n",
    "\n",
    "具体来讲，先从样本集中随机抽取小部分训练样本，依据当前簇中心进行簇分配，然后再在簇内进行新簇中心计算，\n",
    "\n",
    "重复直到簇中心稳定或者达到指定迭代次数，最后依据最终簇中心将所有样本点进行分配。\n",
    "```python\n",
    "class sklearn.cluster.MiniBatchKMeans(n_clusters=8,\n",
    "                                      init='k-means++',\n",
    "                                      max_iter=100,\n",
    "                                      batch_size=100, # 新增指定采样集的大小\n",
    "                                      verbose=0,\n",
    "                                      compute_labels=True,\n",
    "                                      random_state=None,\n",
    "                                      tol=0.0,\n",
    "                                      max_no_improvement=10,\n",
    "                                      init_size=None,\n",
    "                                      n_init=3,\n",
    "                                      reassignment_ratio=0.01)\n",
    "```"
   ]
  },
  {
   "cell_type": "markdown",
   "metadata": {},
   "source": []
  }
 ],
 "metadata": {
  "kernelspec": {
   "display_name": "Py39",
   "language": "python",
   "name": "python3"
  },
  "language_info": {
   "name": "python",
   "version": "3.9.19"
  }
 },
 "nbformat": 4,
 "nbformat_minor": 2
}
