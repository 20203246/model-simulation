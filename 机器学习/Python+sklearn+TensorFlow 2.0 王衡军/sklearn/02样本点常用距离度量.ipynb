{
 "cells": [
  {
   "cell_type": "markdown",
   "metadata": {},
   "source": [
    "## $L_p$距离\n",
    "$L_p$ 距离又称闵可夫斯基(Minkowski Distance)\n",
    "$$L_p(x_i,x_j)=\\left( \\sum_{l=1}^n|x_i^{(l)}-x_j^{(l)}|^p \\right)^{\\frac{1}{p}}$$\n",
    "\n",
    "当 $p=1$ 时，称为曼哈顿距离\n",
    "\n",
    "当 $p=\\inf $ 时，它是所有分量距离中的最大值"
   ]
  },
  {
   "cell_type": "markdown",
   "metadata": {},
   "source": [
    "## VDM 距离\n",
    "Value Difference Metric"
   ]
  },
  {
   "cell_type": "markdown",
   "metadata": {},
   "source": [
    "## 混合加权距离"
   ]
  },
  {
   "cell_type": "markdown",
   "metadata": {},
   "source": [
    "## 余弦相似度"
   ]
  }
 ],
 "metadata": {
  "language_info": {
   "name": "python"
  }
 },
 "nbformat": 4,
 "nbformat_minor": 2
}
