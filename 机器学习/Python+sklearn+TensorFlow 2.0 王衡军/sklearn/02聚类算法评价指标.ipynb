{
 "cells": [
  {
   "cell_type": "markdown",
   "metadata": {},
   "source": [
    "# 外部指标\n",
    "$a = |SS|,SS=\\{ (x_i,x_j) | y_i = y_j, \\hat{y_i} = \\hat{y_j},i<j \\}\\\\$ \n",
    "$b = |SS|,SD=\\{ (x_i,x_j) | y_i = y_j, \\hat{y_i} \\neq \\hat{y_j},i<j \\}\\\\$\n",
    "$c = |SS|,DS=\\{ (x_i,x_j) | y_i \\neq y_j, \\hat{y_i} = \\hat{y_j},i<j \\}\\\\$\n",
    "$d = |SS|,DD=\\{ (x_i,x_j) | y_i = \\neq_j, \\hat{y_i} \\neq \\hat{y_j},i<j \\}\\\\$\n",
    "\n",
    "$a+b+c+d=\\frac{m(m-1)}{2}$"
   ]
  },
  {
   "cell_type": "markdown",
   "metadata": {},
   "source": [
    "## Jaccard系数(Jaccard Coefficient,JC)\n",
    "$$JC=\\frac{a}{a+b+c}$$\n",
    "> 越大说明正确分簇的样本对数所占的比例越大，也就是说与预先分组越接近"
   ]
  },
  {
   "cell_type": "markdown",
   "metadata": {},
   "source": [
    "## FM 指数(Fowlkes and Mallows Index, FMI)\n",
    "$$FMI=\\frac{a}{\\sqrt{(a+b)(a+c)}}$$\n",
    "> 越大说明算法分簇与预先分组越接近"
   ]
  },
  {
   "cell_type": "code",
   "execution_count": 3,
   "metadata": {},
   "outputs": [
    {
     "name": "stdout",
     "output_type": "stream",
     "text": [
      "0.2987924581708903\n",
      "1.0\n",
      "0.0\n"
     ]
    }
   ],
   "source": [
    "from sklearn.metrics import adjusted_mutual_info_score\n",
    "labels_true = [0,0,1,1,2,2]\n",
    "labels_pred = [0,0,0,1,1,1]\n",
    "print(adjusted_mutual_info_score(labels_true,labels_pred))\n",
    "labels_pred = [0,0,1,1,2,2]\n",
    "print(adjusted_mutual_info_score(labels_true,labels_pred))\n",
    "labels_pred = [9,8,7,6,5,4]\n",
    "print(adjusted_mutual_info_score(labels_true,labels_pred))"
   ]
  },
  {
   "cell_type": "markdown",
   "metadata": {},
   "source": [
    "# 内部指标\n",
    "1)样本 $x_m$ 与同簇$C_i$其他样本的平均距离(簇内平均不相似度)\n",
    "$$ a(x_m)=\\frac{\\sum_{1\\leq n \\leq |C_i|}dist(x_m,x_n)}{|C_i|-1},x_m,x_n\\in C_i $$\n",
    "\n",
    "2)样本 $x_m$ 与不同簇$C_i$内样本的平均距离(样本$x_m$与簇$C_j$的平均不相似度)\n",
    "$$d(x_n,C_j)=\\frac{\\sum_{1\\leq n \\leq |C_i|}dist(x_m,x_n)}{|C_j|},x_m\\notin C_j,x_n\\in C_j$$\n",
    "\n",
    "3)样本 $x_m$ 与簇的最小平均距离：\n",
    "$$b(x_m)=\\min_{C_j}d(x_m,C_j),x_m\\in C_j,x_n\\notin C_j$$\n",
    "...P30\n"
   ]
  },
  {
   "cell_type": "code",
   "execution_count": null,
   "metadata": {},
   "outputs": [
    {
     "name": "stderr",
     "output_type": "stream",
     "text": [
      "c:\\Users\\14155\\.conda\\envs\\Py39\\lib\\site-packages\\sklearn\\cluster\\_kmeans.py:1429: UserWarning: KMeans is known to have a memory leak on Windows with MKL, when there are less chunks than available threads. You can avoid it by setting the environment variable OMP_NUM_THREADS=1.\n",
      "  warnings.warn(\n"
     ]
    },
    {
     "data": {
      "text/plain": [
       "0.496137786540463"
      ]
     },
     "execution_count": 4,
     "metadata": {},
     "output_type": "execute_result"
    }
   ],
   "source": [
    "from sklearn.datasets import make_blobs\n",
    "from sklearn.cluster import KMeans\n",
    "from sklearn.metrics import silhouette_score\n",
    "X, y = make_blobs(random_state=42)\n",
    "kmeans = KMeans(n_clusters=2, random_state=42)\n",
    "silhouette_score(X, kmeans.fit_predict(X))\n",
    "# 还有DB指数(Davies-Bouldin Index,DBI)..."
   ]
  }
 ],
 "metadata": {
  "kernelspec": {
   "display_name": "Py39",
   "language": "python",
   "name": "python3"
  },
  "language_info": {
   "codemirror_mode": {
    "name": "ipython",
    "version": 3
   },
   "file_extension": ".py",
   "mimetype": "text/x-python",
   "name": "python",
   "nbconvert_exporter": "python",
   "pygments_lexer": "ipython3",
   "version": "3.9.19"
  }
 },
 "nbformat": 4,
 "nbformat_minor": 2
}
