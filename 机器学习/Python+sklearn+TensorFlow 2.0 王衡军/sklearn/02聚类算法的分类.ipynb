{
 "cells": [
  {
   "cell_type": "markdown",
   "metadata": {},
   "source": [
    "1. 划分距离\n",
    "2. 密度聚类\n",
    "3. 层次聚类\n",
    "4. 网格聚类\n",
    "5. 模型聚类"
   ]
  }
 ],
 "metadata": {
  "language_info": {
   "name": "python"
  }
 },
 "nbformat": 4,
 "nbformat_minor": 2
}
